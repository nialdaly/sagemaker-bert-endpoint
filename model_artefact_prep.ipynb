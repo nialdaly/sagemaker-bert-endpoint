{
 "cells": [
  {
   "cell_type": "code",
   "execution_count": 1,
   "metadata": {},
   "outputs": [],
   "source": [
    "import boto3\n",
    "import json\n",
    "import urllib\n",
    "import sagemaker\n",
    "import tarfile"
   ]
  },
  {
   "cell_type": "code",
   "execution_count": 3,
   "metadata": {},
   "outputs": [],
   "source": [
    "from sagemaker import get_execution_role"
   ]
  },
  {
   "cell_type": "code",
   "execution_count": 31,
   "metadata": {},
   "outputs": [],
   "source": [
    "# Retrieves the SageMaker Execution role\n",
    "sagemaker_execution_role = get_execution_role()"
   ]
  },
  {
   "cell_type": "code",
   "execution_count": null,
   "metadata": {},
   "outputs": [],
   "source": []
  },
  {
   "cell_type": "markdown",
   "metadata": {},
   "source": [
    "### 1. S3 Bucket Creation (Model Artefacts Store)\n",
    "Here we create an S3 bucket that will store the HuggingFace Transformers BERT model artefacts."
   ]
  },
  {
   "cell_type": "code",
   "execution_count": 4,
   "metadata": {},
   "outputs": [],
   "source": [
    "s3_resource = boto3.resource('s3')"
   ]
  },
  {
   "cell_type": "code",
   "execution_count": 5,
   "metadata": {},
   "outputs": [
    {
     "data": {
      "text/plain": [
       "s3.Bucket(name='sagemaker-bert-endpoint-artefacts')"
      ]
     },
     "execution_count": 5,
     "metadata": {},
     "output_type": "execute_result"
    }
   ],
   "source": [
    "bucket = 'sagemaker-endpoint-artefacts'\n",
    "region = 'eu-west-1'\n",
    "\n",
    "# Creates the S3 bucket\n",
    "s3_resource.create_bucket(Bucket=bucket, \n",
    "                          CreateBucketConfiguration={'LocationConstraint': region})"
   ]
  },
  {
   "cell_type": "code",
   "execution_count": 8,
   "metadata": {},
   "outputs": [],
   "source": []
  },
  {
   "cell_type": "markdown",
   "metadata": {},
   "source": [
    "### Model Artefact Preparation\n",
    "In order to upload the BERT model artefacts to our S3 bucket, we need to retrieve them from HuggingFace. We can pull the following artefacts from Huggingface using the `urllib` library:\n",
    "- config\n",
    "- vocab\n",
    "- model\n",
    "\n",
    "After we have downloaded the artefacts, they must be zipped up into a tarball object as required by SageMaker. The `predictor.py` and `requirements.txt` also need to added. This will result in a `model.tar.gz` object."
   ]
  },
  {
   "cell_type": "code",
   "execution_count": 6,
   "metadata": {},
   "outputs": [],
   "source": [
    "# Creates a local model_artefacts directory\n",
    "!mkdir ./local-sagemaker-endpoint-artefacts\n",
    "\n",
    "# adds path\n",
    "path = './local-sagemaker-endpoint-artefacts/'"
   ]
  },
  {
   "cell_type": "code",
   "execution_count": 7,
   "metadata": {},
   "outputs": [
    {
     "data": {
      "text/plain": [
       "('./local-sagemaker-bert-endpoint-artefacts/pytorch_model.bin',\n",
       " <http.client.HTTPMessage at 0x7f42c95bf588>)"
      ]
     },
     "execution_count": 7,
     "metadata": {},
     "output_type": "execute_result"
    }
   ],
   "source": [
    "# model artefacts URLs referencing HuggingFace's own S3 bucket\n",
    "config = 'https://s3.amazonaws.com/models.huggingface.co/bert/bert-large-uncased-whole-word-masking-finetuned-squad-config.json'\n",
    "vocab = 'https://s3.amazonaws.com/models.huggingface.co/bert/bert-large-uncased-whole-word-masking-finetuned-squad-vocab.txt'\n",
    "model = 'https://s3.amazonaws.com/models.huggingface.co/bert/bert-large-uncased-whole-word-masking-finetuned-squad-pytorch_model.bin'\n",
    "\n",
    "# Downloads each model artefacts\n",
    "urllib.request.urlretrieve(config, path+'config_file.json')\n",
    "urllib.request.urlretrieve(vocab, path+'vocab.txt')\n",
    "urllib.request.urlretrieve(model, path+'pytorch_model.bin')"
   ]
  },
  {
   "cell_type": "code",
   "execution_count": 8,
   "metadata": {},
   "outputs": [],
   "source": [
    "# Zips the model artefacts up as a tarball object\n",
    "with tarfile.open('./local-sagemaker-endpoint-artefacts/model.tar.gz', 'w:gz') as f:\n",
    "    f.add('./local-sagemaker-endpoint-artefacts/config_file.json', arcname='./config_file.json')\n",
    "    f.add('./local-sagemaker-endpoint-artefacts/vocab.txt', arcname='./vocab.txt')\n",
    "    f.add('./local-sagemaker-endpoint-artefacts/pytorch_model.bin', arcname='./pytorch_model.bin')\n",
    "    f.add('./predictor/requirements.txt', arcname='./code/requirements.txt')\n",
    "    f.add('./predictor/predictor.py', arcname='./code/predictor.py')"
   ]
  },
  {
   "cell_type": "code",
   "execution_count": null,
   "metadata": {},
   "outputs": [],
   "source": []
  },
  {
   "cell_type": "markdown",
   "metadata": {},
   "source": [
    "### 2. Model Artefacts Upload\n",
    "Now the model artefacts can be uploaded to the S3 bucket. These will be used by SageMaker to build the model and the endpoint."
   ]
  },
  {
   "cell_type": "code",
   "execution_count": 9,
   "metadata": {},
   "outputs": [],
   "source": [
    "# Initialises a sagemaker session\n",
    "sagemaker_session = sagemaker.Session()"
   ]
  },
  {
   "cell_type": "code",
   "execution_count": 10,
   "metadata": {},
   "outputs": [],
   "source": [
    "# Local model_artefacts directory path\n",
    "local_artefact_path = './local-sagemaker-endpoint-artefacts/model.tar.gz'\n",
    "model_prefix = 'bert-model'\n",
    "\n",
    "# Uploads the model.tar.gz object to S3\n",
    "model_artefact = sagemaker_session.upload_data(path=local_artefact_path,\n",
    "                                               bucket=bucket,\n",
    "                                               key_prefix=model_prefix)"
   ]
  },
  {
   "cell_type": "code",
   "execution_count": 11,
   "metadata": {},
   "outputs": [
    {
     "name": "stdout",
     "output_type": "stream",
     "text": [
      "s3://sagemaker-bert-endpoint-artefacts/bert-squad-model/model.tar.gz\n"
     ]
    }
   ],
   "source": [
    "# Displays the S3 path to the model tarball object\n",
    "print(model_artefact)"
   ]
  },
  {
   "cell_type": "code",
   "execution_count": null,
   "metadata": {},
   "outputs": [],
   "source": []
  },
  {
   "cell_type": "markdown",
   "metadata": {},
   "source": [
    "### 3. SageMaker Endpoint Deployment & Testing\n",
    "The SageMaker Model, Endpoint Configuration and Endpoint can be deployed using a CloudFormation stack. A CloudFormation template, `endpoint-deployment.yaml` is provided. Once the stack has successfully created, the model is endpoint is ready for inference. We can test the endpoint using a paragraph from the SQuAD dataset."
   ]
  },
  {
   "cell_type": "code",
   "execution_count": 13,
   "metadata": {},
   "outputs": [],
   "source": [
    "# Initializes the SageMaker runtime\n",
    "sagemaker_runtime = boto3.client('sagemaker-runtime')"
   ]
  },
  {
   "cell_type": "code",
   "execution_count": 33,
   "metadata": {},
   "outputs": [
    {
     "name": "stdout",
     "output_type": "stream",
     "text": [
      "Large-scale construction requires collaboration across multiple disciplines. An architect normally manages the job, and a construction manager, design engineer, construction engineer or project manager supervises it. For the successful execution of a project, effective planning is essential. Those involved with the design and execution of the infrastructure in question must consider zoning requirements, the environmental impact of the job, the successful scheduling, budgeting, construction-site safety, availability and transportation of building materials, logistics, inconvenience to the public caused by construction delays and bidding, etc. The largest construction projects are referred to as megaprojects.\n"
     ]
    }
   ],
   "source": [
    "context = \"Large-scale construction requires collaboration across multiple disciplines. An architect normally manages the job, and a construction manager, design engineer, construction engineer or project manager supervises it. For the successful execution of a project, effective planning is essential. Those involved with the design and execution of the infrastructure in question must consider zoning requirements, the environmental impact of the job, the successful scheduling, budgeting, construction-site safety, availability and transportation of building materials, logistics, inconvenience to the public caused by construction delays and bidding, etc. The largest construction projects are referred to as megaprojects.\"\n",
    "print(context)"
   ]
  },
  {
   "cell_type": "code",
   "execution_count": 34,
   "metadata": {},
   "outputs": [
    {
     "name": "stdout",
     "output_type": "stream",
     "text": [
      "Who normally oversees a construction job?\n"
     ]
    }
   ],
   "source": [
    "# Try your own question!\n",
    "question = \"Who normally oversees a construction job?\"\n",
    "print(question)"
   ]
  },
  {
   "cell_type": "code",
   "execution_count": 35,
   "metadata": {},
   "outputs": [
    {
     "name": "stdout",
     "output_type": "stream",
     "text": [
      "{'context': 'Large-scale construction requires collaboration across multiple disciplines. An architect normally manages the job, and a construction manager, design engineer, construction engineer or project manager supervises it. For the successful execution of a project, effective planning is essential. Those involved with the design and execution of the infrastructure in question must consider zoning requirements, the environmental impact of the job, the successful scheduling, budgeting, construction-site safety, availability and transportation of building materials, logistics, inconvenience to the public caused by construction delays and bidding, etc. The largest construction projects are referred to as megaprojects.', 'question': 'Who normally oversees a construction job?'}\n"
     ]
    }
   ],
   "source": [
    "# Creates a test event dict object\n",
    "test_event = {\n",
    "    \"context\": context,\n",
    "    \"question\": question\n",
    "}"
   ]
  },
  {
   "cell_type": "code",
   "execution_count": 39,
   "metadata": {},
   "outputs": [
    {
     "name": "stdout",
     "output_type": "stream",
     "text": [
      "\"an architect\"\n"
     ]
    }
   ],
   "source": [
    "# Defines the SageMaker endpoint name\n",
    "sagemaker_endpoint = 'bert-model-endpoint'\n",
    "\n",
    "# Invokes the SageMaker endpoint\n",
    "response = sagemaker_runtime.invoke_endpoint(EndpointName=sagemaker_endpoint,\n",
    "                                             Body=json.dumps(test_event),\n",
    "                                             ContentType='application/json')\n",
    "\n",
    "# Captures the response body and should return an answer\n",
    "response_body = response['Body'] \n",
    "print(response_body.read().decode(\"utf-8\"))"
   ]
  },
  {
   "cell_type": "code",
   "execution_count": null,
   "metadata": {},
   "outputs": [],
   "source": []
  }
 ],
 "metadata": {
  "kernelspec": {
   "display_name": "conda_python3",
   "language": "python",
   "name": "conda_python3"
  },
  "language_info": {
   "codemirror_mode": {
    "name": "ipython",
    "version": 3
   },
   "file_extension": ".py",
   "mimetype": "text/x-python",
   "name": "python",
   "nbconvert_exporter": "python",
   "pygments_lexer": "ipython3",
   "version": "3.6.10"
  }
 },
 "nbformat": 4,
 "nbformat_minor": 4
}